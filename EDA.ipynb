{
 "cells": [
  {
   "cell_type": "code",
   "execution_count": 1,
   "metadata": {
    "collapsed": true
   },
   "outputs": [],
   "source": [
    "import numpy as np\n",
    "import pandas as pd\n",
    "import matplotlib.pyplot as plt\n",
    "sdg_colors = ['#E5243B', '#DDA63A', '#4C9F38','#C5192D','#FF3A21','#26BDE2','#FCC30B','#A21942','#FD6925','#DD1367','#FD9D24','#BF8B2E','#3F7E44','#0A97D9','#56C02B','#00689D','#19486A']"
   ]
  },
  {
   "cell_type": "code",
   "execution_count": 2,
   "metadata": {
    "collapsed": false,
    "pycharm": {
     "name": "#%%\n"
    }
   },
   "outputs": [],
   "source": [
    "#Preprocessing\n",
    "#df = pd.read_csv('data/allSDGtweets.csv', encoding='latin1')\n",
    "#df = df.drop(['Unnamed: 0', 'id','created_at','category'], axis=1)"
   ]
  },
  {
   "cell_type": "code",
   "execution_count": 3,
   "metadata": {},
   "outputs": [
    {
     "data": {
      "text/html": [
       "<div>\n",
       "<style scoped>\n",
       "    .dataframe tbody tr th:only-of-type {\n",
       "        vertical-align: middle;\n",
       "    }\n",
       "\n",
       "    .dataframe tbody tr th {\n",
       "        vertical-align: top;\n",
       "    }\n",
       "\n",
       "    .dataframe thead th {\n",
       "        text-align: right;\n",
       "    }\n",
       "</style>\n",
       "<table border=\"1\" class=\"dataframe\">\n",
       "  <thead>\n",
       "    <tr style=\"text-align: right;\">\n",
       "      <th></th>\n",
       "      <th>text</th>\n",
       "      <th>lang</th>\n",
       "      <th>#sdg1</th>\n",
       "      <th>#sdg2</th>\n",
       "      <th>#sdg3</th>\n",
       "      <th>#sdg4</th>\n",
       "      <th>#sdg5</th>\n",
       "      <th>#sdg6</th>\n",
       "      <th>#sdg7</th>\n",
       "      <th>#sdg8</th>\n",
       "      <th>#sdg9</th>\n",
       "      <th>#sdg10</th>\n",
       "      <th>#sdg11</th>\n",
       "      <th>#sdg12</th>\n",
       "      <th>#sdg13</th>\n",
       "      <th>#sdg14</th>\n",
       "      <th>#sdg15</th>\n",
       "      <th>#sdg16</th>\n",
       "      <th>#sdg17</th>\n",
       "      <th>nclasses</th>\n",
       "    </tr>\n",
       "  </thead>\n",
       "  <tbody>\n",
       "    <tr>\n",
       "      <th>0</th>\n",
       "      <td>With 300 million people without #EnergyAccess,...</td>\n",
       "      <td>en</td>\n",
       "      <td>False</td>\n",
       "      <td>False</td>\n",
       "      <td>False</td>\n",
       "      <td>False</td>\n",
       "      <td>False</td>\n",
       "      <td>False</td>\n",
       "      <td>True</td>\n",
       "      <td>False</td>\n",
       "      <td>False</td>\n",
       "      <td>False</td>\n",
       "      <td>False</td>\n",
       "      <td>False</td>\n",
       "      <td>False</td>\n",
       "      <td>False</td>\n",
       "      <td>False</td>\n",
       "      <td>False</td>\n",
       "      <td>False</td>\n",
       "      <td>1</td>\n",
       "    </tr>\n",
       "    <tr>\n",
       "      <th>1</th>\n",
       "      <td>Happy new year 2019 to #Brussels  #SDG11</td>\n",
       "      <td>en</td>\n",
       "      <td>False</td>\n",
       "      <td>False</td>\n",
       "      <td>False</td>\n",
       "      <td>False</td>\n",
       "      <td>False</td>\n",
       "      <td>False</td>\n",
       "      <td>False</td>\n",
       "      <td>False</td>\n",
       "      <td>False</td>\n",
       "      <td>False</td>\n",
       "      <td>True</td>\n",
       "      <td>False</td>\n",
       "      <td>False</td>\n",
       "      <td>False</td>\n",
       "      <td>False</td>\n",
       "      <td>False</td>\n",
       "      <td>False</td>\n",
       "      <td>1</td>\n",
       "    </tr>\n",
       "    <tr>\n",
       "      <th>2</th>\n",
       "      <td>Nearly 4 000 new followers joined us on social...</td>\n",
       "      <td>en</td>\n",
       "      <td>False</td>\n",
       "      <td>False</td>\n",
       "      <td>False</td>\n",
       "      <td>False</td>\n",
       "      <td>False</td>\n",
       "      <td>False</td>\n",
       "      <td>False</td>\n",
       "      <td>False</td>\n",
       "      <td>False</td>\n",
       "      <td>False</td>\n",
       "      <td>False</td>\n",
       "      <td>False</td>\n",
       "      <td>False</td>\n",
       "      <td>False</td>\n",
       "      <td>True</td>\n",
       "      <td>False</td>\n",
       "      <td>False</td>\n",
       "      <td>1</td>\n",
       "    </tr>\n",
       "    <tr>\n",
       "      <th>3</th>\n",
       "      <td>In 2019 Promoting  @Najim_Ali five simple #Pas...</td>\n",
       "      <td>en</td>\n",
       "      <td>False</td>\n",
       "      <td>False</td>\n",
       "      <td>False</td>\n",
       "      <td>False</td>\n",
       "      <td>False</td>\n",
       "      <td>False</td>\n",
       "      <td>True</td>\n",
       "      <td>False</td>\n",
       "      <td>False</td>\n",
       "      <td>False</td>\n",
       "      <td>False</td>\n",
       "      <td>False</td>\n",
       "      <td>False</td>\n",
       "      <td>False</td>\n",
       "      <td>False</td>\n",
       "      <td>False</td>\n",
       "      <td>False</td>\n",
       "      <td>1</td>\n",
       "    </tr>\n",
       "    <tr>\n",
       "      <th>4</th>\n",
       "      <td>Please download the #Safecity Mobile app on An...</td>\n",
       "      <td>en</td>\n",
       "      <td>False</td>\n",
       "      <td>False</td>\n",
       "      <td>False</td>\n",
       "      <td>False</td>\n",
       "      <td>True</td>\n",
       "      <td>False</td>\n",
       "      <td>False</td>\n",
       "      <td>False</td>\n",
       "      <td>False</td>\n",
       "      <td>False</td>\n",
       "      <td>False</td>\n",
       "      <td>False</td>\n",
       "      <td>False</td>\n",
       "      <td>False</td>\n",
       "      <td>False</td>\n",
       "      <td>False</td>\n",
       "      <td>False</td>\n",
       "      <td>1</td>\n",
       "    </tr>\n",
       "  </tbody>\n",
       "</table>\n",
       "</div>"
      ],
      "text/plain": [
       "                                                text lang  #sdg1  #sdg2  \\\n",
       "0  With 300 million people without #EnergyAccess,...   en  False  False   \n",
       "1           Happy new year 2019 to #Brussels  #SDG11   en  False  False   \n",
       "2  Nearly 4 000 new followers joined us on social...   en  False  False   \n",
       "3  In 2019 Promoting  @Najim_Ali five simple #Pas...   en  False  False   \n",
       "4  Please download the #Safecity Mobile app on An...   en  False  False   \n",
       "\n",
       "   #sdg3  #sdg4  #sdg5  #sdg6  #sdg7  #sdg8  #sdg9  #sdg10  #sdg11  #sdg12  \\\n",
       "0  False  False  False  False   True  False  False   False   False   False   \n",
       "1  False  False  False  False  False  False  False   False    True   False   \n",
       "2  False  False  False  False  False  False  False   False   False   False   \n",
       "3  False  False  False  False   True  False  False   False   False   False   \n",
       "4  False  False   True  False  False  False  False   False   False   False   \n",
       "\n",
       "   #sdg13  #sdg14  #sdg15  #sdg16  #sdg17  nclasses  \n",
       "0   False   False   False   False   False         1  \n",
       "1   False   False   False   False   False         1  \n",
       "2   False   False    True   False   False         1  \n",
       "3   False   False   False   False   False         1  \n",
       "4   False   False   False   False   False         1  "
      ]
     },
     "execution_count": 3,
     "metadata": {},
     "output_type": "execute_result"
    }
   ],
   "source": [
    "data = pd.read_csv('data/formatedData.csv')\n",
    "data.head()"
   ]
  },
  {
   "cell_type": "markdown",
   "metadata": {},
   "source": [
    "## Number of tweets"
   ]
  },
  {
   "cell_type": "code",
   "execution_count": 4,
   "metadata": {},
   "outputs": [
    {
     "name": "stdout",
     "output_type": "stream",
     "text": [
      "Number of english tweets:\t\t 784441 \t(83.88%)\n",
      "Number of nclasses =1 tweets:\t 549975 \t(58.81%)\n"
     ]
    }
   ],
   "source": [
    "print(f\"Number of english tweets:\\t\\t {len(data[data['lang']=='en'])} \\t({np.round(len(data[data['lang']=='en'])/len(data)*100,2)}%)\")\n",
    "print(f\"Number of nclasses =1 tweets:\\t {len(data[data['nclasses']==1])} \\t({np.round(len(data[data['nclasses']==1])/len(data)*100,2)}%)\")"
   ]
  },
  {
   "cell_type": "code",
   "execution_count": 5,
   "metadata": {},
   "outputs": [
    {
     "data": {
      "image/png": "[encoded data removed]",
      "text/plain": [
       "<Figure size 432x288 with 1 Axes>"
      ]
     },
     "metadata": {
      "needs_background": "light"
     },
     "output_type": "display_data"
    }
   ],
   "source": [
    "plt.bar(range(18), [np.sum(data['nclasses']==i) for i in range(18)])\n",
    "plt.title(\"Number of tweets with n SDG classes\")\n",
    "plt.xticks(range(18),range(18))\n",
    "plt.show()"
   ]
  },
  {
   "cell_type": "code",
   "execution_count": 6,
   "metadata": {},
   "outputs": [
    {
     "data": {
      "image/png": "[encoded data removed]",
      "text/plain": [
       "<Figure size 1944x576 with 4 Axes>"
      ]
     },
     "metadata": {
      "needs_background": "light"
     },
     "output_type": "display_data"
    }
   ],
   "source": [
    "plt.figure(figsize=(27, 8))\n",
    "plt.subplot(2,2,1)\n",
    "plt.bar(range(1,18),[np.sum(data[f'#sdg{i}']) for i in range(1,18)], color=sdg_colors)\n",
    "plt.xticks(range(1,18), [f'SDG{i}' for i in range(1,18)])\n",
    "plt.title(\"Number of SDGs (all nclasses)\")\n",
    "plt.subplot(2,2,2)\n",
    "plt.bar(range(1,18),[np.sum(data[data['nclasses']==1][f'#sdg{i}']) for i in range(1,18)], color=sdg_colors)\n",
    "plt.xticks(range(1,18), [f'SDG{i}' for i in range(1,18)])\n",
    "plt.title(\"Number of SDGs (one nclasses)\")\n",
    "plt.subplot(2,2,3)\n",
    "plt.bar(range(1,18),[np.sum(data[data['lang']=='en'][f'#sdg{i}']) for i in range(1,18)], color=sdg_colors)\n",
    "plt.xticks(range(1,18), [f'SDG{i}' for i in range(1,18)])\n",
    "plt.title(\"Number of SDGs (all nclasses), only english\")\n",
    "plt.subplot(2,2,4)\n",
    "plt.bar(range(1,18),[np.sum(data[np.logical_and(data['nclasses']==1,data['lang']=='en')][f'#sdg{i}']) for i in range(1,18)], color=sdg_colors)\n",
    "plt.xticks(range(1,18), [f'SDG{i}' for i in range(1,18)])\n",
    "plt.title(\"Number of SDGs (one nclasses), only english\")\n",
    "plt.show()"
   ]
  },
  {
   "cell_type": "markdown",
   "metadata": {},
   "source": [
    "## Tweet lenght"
   ]
  },
  {
   "cell_type": "code",
   "execution_count": 21,
   "metadata": {},
   "outputs": [
    {
     "name": "stdout",
     "output_type": "stream",
     "text": [
      "Average text length for #SDG1: \t 226.0 characters per tweet \t 27.0 words per tweet\n",
      "Average text length for #SDG2: \t 197.0 characters per tweet \t 21.0 words per tweet\n",
      "Average text length for #SDG3: \t 248.0 characters per tweet \t 29.0 words per tweet\n",
      "Average text length for #SDG4: \t 246.0 characters per tweet \t 27.0 words per tweet\n",
      "Average text length for #SDG5: \t 230.0 characters per tweet \t 28.0 words per tweet\n",
      "Average text length for #SDG6: \t 213.0 characters per tweet \t 26.0 words per tweet\n",
      "Average text length for #SDG7: \t 241.0 characters per tweet \t 29.0 words per tweet\n",
      "Average text length for #SDG8: \t 247.0 characters per tweet \t 28.0 words per tweet\n",
      "Average text length for #SDG9: \t 243.0 characters per tweet \t 27.0 words per tweet\n",
      "Average text length for #SDG10: \t 236.0 characters per tweet \t 28.0 words per tweet\n",
      "Average text length for #SDG11: \t 244.0 characters per tweet \t 27.0 words per tweet\n",
      "Average text length for #SDG12: \t 239.0 characters per tweet \t 28.0 words per tweet\n",
      "Average text length for #SDG13: \t 235.0 characters per tweet \t 27.0 words per tweet\n",
      "Average text length for #SDG14: \t 226.0 characters per tweet \t 27.0 words per tweet\n",
      "Average text length for #SDG15: \t 133.0 characters per tweet \t 14.0 words per tweet\n",
      "Average text length for #SDG16: \t 236.0 characters per tweet \t 28.0 words per tweet\n",
      "Average text length for #SDG17: \t 240.0 characters per tweet \t 27.0 words per tweet\n"
     ]
    }
   ],
   "source": [
    "text_length = np.zeros(17)\n",
    "word_text_length = np.zeros(17)\n",
    "\n",
    "for i in range(1,18):\n",
    "    for text in data[data[f'#sdg{i}']==True]['text']:\n",
    "        text_length[i-1] += len(text)\n",
    "        word_text_length[i-1] += len(text.split())\n",
    "\n",
    "text_length = text_length/([np.sum(data[f'#sdg{i}']) for i in range(1,18)])\n",
    "word_text_length = word_text_length/([np.sum(data[f'#sdg{i}']) for i in range(1,18)])\n",
    "\n",
    "for i in range(17):\n",
    "    print(f\"Average text length for #SDG{i+1}: \\t {np.round(text_length[i])} characters per tweet \\t {np.round(word_text_length[i])} words per tweet\")"
   ]
  },
  {
   "cell_type": "markdown",
   "metadata": {},
   "source": [
    "## Vocabulary"
   ]
  },
  {
   "cell_type": "code",
   "execution_count": null,
   "metadata": {},
   "outputs": [],
   "source": []
  }
 ],
 "metadata": {
  "kernelspec": {
   "display_name": "Python 3",
   "language": "python",
   "name": "python3"
  },
  "language_info": {
   "codemirror_mode": {
    "name": "ipython",
    "version": 3
   },
   "file_extension": ".py",
   "mimetype": "text/x-python",
   "name": "python",
   "nbconvert_exporter": "python",
   "pygments_lexer": "ipython3",
   "version": "3.9.7"
  }
 },
 "nbformat": 4,
 "nbformat_minor": 0
}
