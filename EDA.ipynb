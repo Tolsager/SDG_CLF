{
 "cells": [
  {
   "cell_type": "code",
   "execution_count": 1,
   "metadata": {
    "collapsed": true
   },
   "outputs": [],
   "source": [
    "import numpy as np\n",
    "import pandas as pd"
   ]
  },
  {
   "cell_type": "code",
   "execution_count": 6,
   "outputs": [],
   "source": [
    "df = pd.read_csv('allSDGtweets.csv', encoding='latin1')"
   ],
   "metadata": {
    "collapsed": false,
    "pycharm": {
     "name": "#%%\n"
    }
   }
  },
  {
   "cell_type": "code",
   "execution_count": 14,
   "outputs": [
    {
     "data": {
      "text/plain": "             id                created_at  \\\n0  1.079880e+18  2018-12-31T23:17:02.000Z   \n1  1.079870e+18  2018-12-31T23:00:29.000Z   \n2  1.079870e+18  2018-12-31T23:00:00.000Z   \n3  1.079870e+18  2018-12-31T22:35:39.000Z   \n4  1.079850e+18  2018-12-31T21:30:26.000Z   \n\n                                                text lang  #sdg1  #sdg2  \\\n0  With 300 million people without #EnergyAccess,...   en  False  False   \n1           Happy new year 2019 to #Brussels  #SDG11   en   True  False   \n2  Nearly 4 000 new followers joined us on social...   en   True  False   \n3  In 2019 Promoting  @Najim_Ali five simple #Pas...   en  False  False   \n4  Please download the #Safecity Mobile app on An...   en  False  False   \n\n   #sdg3  #sdg4  #sdg5  #sdg6  ...  #sdg10  #sdg11  #sdg12  #sdg13  #sdg14  \\\n0  False  False  False  False  ...   False   False   False   False   False   \n1  False  False  False  False  ...   False    True   False   False   False   \n2  False  False  False  False  ...   False   False   False   False   False   \n3  False  False  False  False  ...   False   False   False   False   False   \n4  False  False   True  False  ...   False   False   False   False   False   \n\n   #sdg15  #sdg16  #sdg17  category  nclasses  \n0   False   False   False       SDG         1  \n1   False   False   False       SDG         2  \n2    True   False   False       SDG         2  \n3   False   False   False       SDG         1  \n4   False   False   False       SDG         1  \n\n[5 rows x 23 columns]",
      "text/html": "<div>\n<style scoped>\n    .dataframe tbody tr th:only-of-type {\n        vertical-align: middle;\n    }\n\n    .dataframe tbody tr th {\n        vertical-align: top;\n    }\n\n    .dataframe thead th {\n        text-align: right;\n    }\n</style>\n<table border=\"1\" class=\"dataframe\">\n  <thead>\n    <tr style=\"text-align: right;\">\n      <th></th>\n      <th>id</th>\n      <th>created_at</th>\n      <th>text</th>\n      <th>lang</th>\n      <th>#sdg1</th>\n      <th>#sdg2</th>\n      <th>#sdg3</th>\n      <th>#sdg4</th>\n      <th>#sdg5</th>\n      <th>#sdg6</th>\n      <th>...</th>\n      <th>#sdg10</th>\n      <th>#sdg11</th>\n      <th>#sdg12</th>\n      <th>#sdg13</th>\n      <th>#sdg14</th>\n      <th>#sdg15</th>\n      <th>#sdg16</th>\n      <th>#sdg17</th>\n      <th>category</th>\n      <th>nclasses</th>\n    </tr>\n  </thead>\n  <tbody>\n    <tr>\n      <th>0</th>\n      <td>1.079880e+18</td>\n      <td>2018-12-31T23:17:02.000Z</td>\n      <td>With 300 million people without #EnergyAccess,...</td>\n      <td>en</td>\n      <td>False</td>\n      <td>False</td>\n      <td>False</td>\n      <td>False</td>\n      <td>False</td>\n      <td>False</td>\n      <td>...</td>\n      <td>False</td>\n      <td>False</td>\n      <td>False</td>\n      <td>False</td>\n      <td>False</td>\n      <td>False</td>\n      <td>False</td>\n      <td>False</td>\n      <td>SDG</td>\n      <td>1</td>\n    </tr>\n    <tr>\n      <th>1</th>\n      <td>1.079870e+18</td>\n      <td>2018-12-31T23:00:29.000Z</td>\n      <td>Happy new year 2019 to #Brussels  #SDG11</td>\n      <td>en</td>\n      <td>True</td>\n      <td>False</td>\n      <td>False</td>\n      <td>False</td>\n      <td>False</td>\n      <td>False</td>\n      <td>...</td>\n      <td>False</td>\n      <td>True</td>\n      <td>False</td>\n      <td>False</td>\n      <td>False</td>\n      <td>False</td>\n      <td>False</td>\n      <td>False</td>\n      <td>SDG</td>\n      <td>2</td>\n    </tr>\n    <tr>\n      <th>2</th>\n      <td>1.079870e+18</td>\n      <td>2018-12-31T23:00:00.000Z</td>\n      <td>Nearly 4 000 new followers joined us on social...</td>\n      <td>en</td>\n      <td>True</td>\n      <td>False</td>\n      <td>False</td>\n      <td>False</td>\n      <td>False</td>\n      <td>False</td>\n      <td>...</td>\n      <td>False</td>\n      <td>False</td>\n      <td>False</td>\n      <td>False</td>\n      <td>False</td>\n      <td>True</td>\n      <td>False</td>\n      <td>False</td>\n      <td>SDG</td>\n      <td>2</td>\n    </tr>\n    <tr>\n      <th>3</th>\n      <td>1.079870e+18</td>\n      <td>2018-12-31T22:35:39.000Z</td>\n      <td>In 2019 Promoting  @Najim_Ali five simple #Pas...</td>\n      <td>en</td>\n      <td>False</td>\n      <td>False</td>\n      <td>False</td>\n      <td>False</td>\n      <td>False</td>\n      <td>False</td>\n      <td>...</td>\n      <td>False</td>\n      <td>False</td>\n      <td>False</td>\n      <td>False</td>\n      <td>False</td>\n      <td>False</td>\n      <td>False</td>\n      <td>False</td>\n      <td>SDG</td>\n      <td>1</td>\n    </tr>\n    <tr>\n      <th>4</th>\n      <td>1.079850e+18</td>\n      <td>2018-12-31T21:30:26.000Z</td>\n      <td>Please download the #Safecity Mobile app on An...</td>\n      <td>en</td>\n      <td>False</td>\n      <td>False</td>\n      <td>False</td>\n      <td>False</td>\n      <td>True</td>\n      <td>False</td>\n      <td>...</td>\n      <td>False</td>\n      <td>False</td>\n      <td>False</td>\n      <td>False</td>\n      <td>False</td>\n      <td>False</td>\n      <td>False</td>\n      <td>False</td>\n      <td>SDG</td>\n      <td>1</td>\n    </tr>\n  </tbody>\n</table>\n<p>5 rows × 23 columns</p>\n</div>"
     },
     "execution_count": 14,
     "metadata": {},
     "output_type": "execute_result"
    }
   ],
   "source": [
    "df.head()\n"
   ],
   "metadata": {
    "collapsed": false,
    "pycharm": {
     "name": "#%%\n"
    }
   }
  }
 ],
 "metadata": {
  "kernelspec": {
   "display_name": "Python 3",
   "language": "python",
   "name": "python3"
  },
  "language_info": {
   "codemirror_mode": {
    "name": "ipython",
    "version": 2
   },
   "file_extension": ".py",
   "mimetype": "text/x-python",
   "name": "python",
   "nbconvert_exporter": "python",
   "pygments_lexer": "ipython2",
   "version": "2.7.6"
  }
 },
 "nbformat": 4,
 "nbformat_minor": 0
}